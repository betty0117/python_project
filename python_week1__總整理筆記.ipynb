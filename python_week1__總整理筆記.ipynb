{
  "nbformat": 4,
  "nbformat_minor": 0,
  "metadata": {
    "colab": {
      "provenance": []
    },
    "kernelspec": {
      "name": "python3",
      "display_name": "Python 3"
    },
    "language_info": {
      "name": "python"
    }
  },
  "cells": [
    {
      "cell_type": "markdown",
      "source": [
        "# **輸出與字串**"
      ],
      "metadata": {
        "id": "EtN5JIObHGZj"
      }
    },
    {
      "cell_type": "markdown",
      "source": [
        "**基本輸出**"
      ],
      "metadata": {
        "id": "TdffgD0QYCg8"
      }
    },
    {
      "cell_type": "code",
      "source": [
        "# 字串格式化\n",
        "name = \"Alice\"\n",
        "age = 20\n",
        "# 基本輸出\n",
        "print(\"Hello, World!\")\n",
        "print(\"姓名:\", name, \"年齡:\", age)"
      ],
      "metadata": {
        "colab": {
          "base_uri": "https://localhost:8080/"
        },
        "id": "iWpH9gPDHHy9",
        "outputId": "bc509058-1da0-4c88-b293-0405bef086d0"
      },
      "execution_count": null,
      "outputs": [
        {
          "output_type": "stream",
          "name": "stdout",
          "text": [
            "Hello, World!\n",
            "姓名: Alice 年齡: 20\n",
            "姓名: Alice 年齡: 20\n"
          ]
        }
      ]
    },
    {
      "cell_type": "markdown",
      "source": [
        "**JavaScript 對照**"
      ],
      "metadata": {
        "id": "mLCPN8J4X5nm"
      }
    },
    {
      "cell_type": "code",
      "source": [
        "let name = \"Alice\";\n",
        "console.log(\"Hello, World!\");\n",
        "console.log(\"Hello, \" + name);"
      ],
      "metadata": {
        "id": "E6gTghBdXhFF"
      },
      "execution_count": null,
      "outputs": []
    },
    {
      "cell_type": "markdown",
      "source": [
        "**f-string**"
      ],
      "metadata": {
        "id": "NOUBaiPkYOr4"
      }
    },
    {
      "cell_type": "code",
      "source": [
        "print(\"姓名:\", name, \"年齡:\", age)\n",
        "\n",
        "# 字串格式化\n",
        "name = \"Alice\"\n",
        "age = 20\n",
        "\n",
        "# f-string\n",
        "message = f\"姓名: {name}, 年齡: {age}\"\n"
      ],
      "metadata": {
        "colab": {
          "base_uri": "https://localhost:8080/"
        },
        "id": "axqrT7GGWPxc",
        "outputId": "05229f19-093c-4c56-aa5d-2db8817e07fc"
      },
      "execution_count": null,
      "outputs": [
        {
          "output_type": "stream",
          "name": "stdout",
          "text": [
            "姓名: Alice 年齡: 20\n"
          ]
        }
      ]
    },
    {
      "cell_type": "markdown",
      "source": [
        "**JavaScript 對照**"
      ],
      "metadata": {
        "id": "M8oVdEZGYJ2q"
      }
    },
    {
      "cell_type": "code",
      "source": [
        "let name = 'Alice';\n",
        "let age = 20;\n",
        "let message = `姓名: ${name}, 年齡: ${age}`;"
      ],
      "metadata": {
        "id": "JRE_56l-YNRG",
        "colab": {
          "base_uri": "https://localhost:8080/",
          "height": 109
        },
        "outputId": "ebc88271-1a2e-495c-b5b9-01031303f429"
      },
      "execution_count": null,
      "outputs": [
        {
          "output_type": "error",
          "ename": "SyntaxError",
          "evalue": "invalid syntax (ipython-input-42060542.py, line 1)",
          "traceback": [
            "\u001b[0;36m  File \u001b[0;32m\"/tmp/ipython-input-42060542.py\"\u001b[0;36m, line \u001b[0;32m1\u001b[0m\n\u001b[0;31m    let name = 'Alice';\u001b[0m\n\u001b[0m        ^\u001b[0m\n\u001b[0;31mSyntaxError\u001b[0m\u001b[0;31m:\u001b[0m invalid syntax\n"
          ]
        }
      ]
    },
    {
      "cell_type": "markdown",
      "source": [
        "**format**"
      ],
      "metadata": {
        "id": "XkEbjen_YRk2"
      }
    },
    {
      "cell_type": "code",
      "source": [
        "print(\"姓名:\", name, \"年齡:\", age)\n",
        "\n",
        "# 字串格式化\n",
        "name = \"Alice\"\n",
        "age = 20\n",
        "\n",
        "# format 方法\n",
        "message = \"姓名: {}, 年齡: {}\".format(name, age)\n",
        "\n",
        "# % 格式化\n",
        "message = \"姓名: %s, 年齡: %d\" % (name, age)"
      ],
      "metadata": {
        "colab": {
          "base_uri": "https://localhost:8080/"
        },
        "id": "JufNVVpmWXfz",
        "outputId": "f99ffd32-c77d-483e-9814-0a8c665ceaa5"
      },
      "execution_count": null,
      "outputs": [
        {
          "output_type": "stream",
          "name": "stdout",
          "text": [
            "姓名: Alice 年齡: 20\n"
          ]
        }
      ]
    },
    {
      "cell_type": "markdown",
      "source": [
        "**JavaScript 對照**"
      ],
      "metadata": {
        "id": "c0wHXfQwYugL"
      }
    },
    {
      "cell_type": "code",
      "source": [
        "let name = \"Alice\";\n",
        "let age = 20;\n",
        "let message = \"姓名: \" + name + \", 年齡: \" + age;\n"
      ],
      "metadata": {
        "id": "_D9YxJ0qYsNd"
      },
      "execution_count": null,
      "outputs": []
    },
    {
      "cell_type": "markdown",
      "source": [
        "**字串方法**"
      ],
      "metadata": {
        "id": "2KDOGUvvZd9P"
      }
    },
    {
      "cell_type": "code",
      "source": [
        "print(text)\n",
        "print(upper_text)\n",
        "print(lower_text)\n",
        "print(length)\n",
        "print(substring)\n",
        "# 字串方法\n",
        "text = \"hello world\"\n",
        "upper_text = text.upper()        # \"HELLO WORLD\"\n",
        "lower_text = text.lower()        # \"hello world\"\n",
        "length = len(text)               # 11\n",
        "substring = text[0:5]            # \"hello\""
      ],
      "metadata": {
        "colab": {
          "base_uri": "https://localhost:8080/"
        },
        "id": "bMeHgaOVW5Fr",
        "outputId": "ad86b927-0de5-43b7-e093-93cd9505b64b"
      },
      "execution_count": null,
      "outputs": [
        {
          "output_type": "stream",
          "name": "stdout",
          "text": [
            "hello world\n",
            "HELLO WORLD\n",
            "hello world\n",
            "11\n",
            "hello\n"
          ]
        }
      ]
    },
    {
      "cell_type": "markdown",
      "source": [
        "**JavaScript 對照**"
      ],
      "metadata": {
        "id": "KRhwkzhnU8ww"
      }
    },
    {
      "cell_type": "code",
      "source": [
        "let text = \"hello world\";\n",
        "let upperText = text.toUpperCase();    // \"HELLO WORLD\"\n",
        "let lowerText = text.toLowerCase();    // \"hello world\"\n",
        "let length = text.length;              // 11\n",
        "let substring = text.substring(0, 5);  // \"hello\""
      ],
      "metadata": {
        "id": "064OZLtkVnpa"
      },
      "execution_count": null,
      "outputs": []
    },
    {
      "cell_type": "markdown",
      "source": [
        "# **變數宣告**"
      ],
      "metadata": {
        "id": "VAriQrI2ENHZ"
      }
    },
    {
      "cell_type": "code",
      "execution_count": null,
      "metadata": {
        "id": "TYQthYVpED1C"
      },
      "outputs": [],
      "source": [
        "# 基本變數宣告\n",
        "name = \"Alice\"\n",
        "age = 20\n",
        "height = 165.5\n",
        "is_student = True\n",
        "\n",
        "# 多變數指派\n",
        "x, y, z = 1, 2, 3\n",
        "\n",
        "# 常數（慣例，非強制）\n",
        "MAX_SIZE = 100\n",
        "API_KEY = \"abc123\"\n",
        "\n",
        "# 變數重新指派\n",
        "count = 10\n",
        "count = 20"
      ]
    },
    {
      "cell_type": "markdown",
      "source": [
        "**JavaScript 對照**"
      ],
      "metadata": {
        "id": "7SRHR5PnbfeZ"
      }
    },
    {
      "cell_type": "code",
      "source": [
        "// 基本變數宣告\n",
        "let name = \"Alice\";\n",
        "const age = 20;\n",
        "let height = 165.5;\n",
        "let isStudent = true;\n",
        "\n",
        "// 多變數指派\n",
        "let x = 1, y = 2, z = 3;\n",
        "\n",
        "// 常數（強制不可變）\n",
        "const MAX_SIZE = 100;\n",
        "const API_KEY = \"abc123\";\n",
        "\n",
        "// 變數重新指派\n",
        "let count = 10;\n",
        "count = 20;  // 可以重新指派\n",
        "// age = 25;  // 錯誤：const 變數不可重新指派"
      ],
      "metadata": {
        "id": "IofAWL-vbefV"
      },
      "execution_count": null,
      "outputs": []
    },
    {
      "cell_type": "markdown",
      "source": [
        "# **資料類型**"
      ],
      "metadata": {
        "id": "hZVGvYUuGRtf"
      }
    },
    {
      "cell_type": "code",
      "source": [
        "# 數字\n",
        "integer_number = 42\n",
        "float_number = 3.14\n",
        "complex_number = 2 + 3j\n",
        "\n",
        "\n",
        "print(integer_number)\n",
        "print(float_number)\n",
        "print(complex_number)\n",
        "\n",
        "\n",
        "# 字串\n",
        "single_quote = 'hello'\n",
        "double_quote = \"world\"\n",
        "\n",
        "\n",
        "# 布林值\n",
        "is_true = True\n",
        "is_false = False\n",
        "\n",
        "# 列表\n",
        "fruits = [\"apple\", \"banana\", \"cherry\"]\n",
        "numbers = [1, 2, 3, 4, 5]\n",
        "# 字典\n",
        "person = {\n",
        "    \"name\": \"Alice\",\n",
        "    \"age\": 20,\n",
        "    \"city\": \"Taipei\"\n",
        "}\n",
        "\n",
        "print(fruits)\n",
        "print(numbers)\n",
        "print(person)\n",
        "\n",
        "\n",
        "# 元組（不可變有序序列）\n",
        "coordinates = (10, 20)\n",
        "\n",
        "# 集合（無序不重複）\n",
        "unique_numbers = {1, 2, 3, 3, 2}"
      ],
      "metadata": {
        "id": "CCz1kUKyGYRZ",
        "colab": {
          "base_uri": "https://localhost:8080/"
        },
        "outputId": "d4f55ac3-7c41-47ae-92b3-65804fe7751d"
      },
      "execution_count": null,
      "outputs": [
        {
          "output_type": "stream",
          "name": "stdout",
          "text": [
            "42\n",
            "3.14\n",
            "(2+3j)\n",
            "['apple', 'banana', 'cherry']\n",
            "[1, 2, 3, 4, 5]\n",
            "{'name': 'Alice', 'age': 20, 'city': 'Taipei'}\n"
          ]
        }
      ]
    },
    {
      "cell_type": "markdown",
      "source": [
        "**JavaScript 對照**"
      ],
      "metadata": {
        "id": "gJ40CkhKbkg-"
      }
    },
    {
      "cell_type": "code",
      "source": [
        "// 數字\n",
        "let integerNumber = 42;\n",
        "let floatNumber = 3.14;\n",
        "\n",
        "// 字串\n",
        "let singleQuote = 'hello';\n",
        "let doubleQuote = \"world\";\n",
        "\n",
        "// 布林值\n",
        "let isTrue = true;\n",
        "let isFalse = false;\n",
        "\n",
        "// 陣列（可變有序序列）\n",
        "let fruits = [\"apple\", \"banana\", \"cherry\"];\n",
        "let numbers = [1, 2, 3, 4, 5];\n",
        "\n",
        "// 物件（鍵值對）\n",
        "let person = {\n",
        "    name: \"Alice\",\n",
        "    age: 20,\n",
        "    city: \"Taipei\"\n",
        "};\n",
        "\n",
        "// 特殊值\n",
        "let nullValue = null;\n",
        "let undefinedValue = undefined;"
      ],
      "metadata": {
        "id": "vaZy4sIublSA"
      },
      "execution_count": null,
      "outputs": []
    },
    {
      "cell_type": "markdown",
      "source": [
        "# **布林值**\n",
        "\n",
        "\n",
        "> 有數字、有文字、有資料 → True\n",
        "\n",
        "> 沒有東西（0、空字串、空列表、None）→ False\n",
        "\n",
        "\n",
        "\n",
        "\n",
        "\n"
      ],
      "metadata": {
        "id": "990Z57CT_jnJ"
      }
    },
    {
      "cell_type": "code",
      "source": [
        "print(bool(True))         # True\n",
        "print(bool(False))        # False\n",
        "\n",
        "print(bool(0))            # False\n",
        "print(bool(5))            # True\n",
        "print(bool(-1))           # True\n",
        "\n",
        "print(bool(\"\"))           # False\n",
        "print(bool(\"Hello\"))      # True\n",
        "\n",
        "print(bool([]))           # False\n",
        "print(bool([1, 2, 3]))    # True\n",
        "\n",
        "print(bool(None))         # False\n"
      ],
      "metadata": {
        "colab": {
          "base_uri": "https://localhost:8080/"
        },
        "id": "2j8OP1Q2A41O",
        "outputId": "6e524636-6407-48d2-b1e7-fa4c98345cb7"
      },
      "execution_count": null,
      "outputs": [
        {
          "output_type": "stream",
          "name": "stdout",
          "text": [
            "True\n",
            "False\n",
            "False\n",
            "True\n",
            "True\n",
            "False\n",
            "True\n",
            "False\n",
            "True\n",
            "False\n"
          ]
        }
      ]
    },
    {
      "cell_type": "code",
      "source": [
        "print(0 or 100)  # 0 是假 → 回傳右邊 100\n",
        "print(5 or 10)   # 5 是真 → 回傳左邊 5\n",
        "\n",
        "print(0 and 100) # 0 是假 → 回傳左邊 0\n",
        "print(5 and 10)  # 5 是真 → 回傳右邊 10\n",
        "\n",
        "print(not 0)     # 0 是假 → not 0 = True\n",
        "print(not 5)     # 5 是真 → not 5 = False\n"
      ],
      "metadata": {
        "colab": {
          "base_uri": "https://localhost:8080/"
        },
        "id": "fNSdOF4T_02l",
        "outputId": "4eefdb71-2158-407a-97dc-ee19dcc96606"
      },
      "execution_count": null,
      "outputs": [
        {
          "output_type": "stream",
          "name": "stdout",
          "text": [
            "100\n",
            "5\n",
            "0\n",
            "10\n",
            "True\n",
            "False\n"
          ]
        }
      ]
    },
    {
      "cell_type": "code",
      "source": [
        "a = 0\n",
        "b = 5\n",
        "print(a or b)    # 0是假 → 回傳 b (5)\n",
        "print(a and b)   # 0是假 → 回傳 a (0)\n",
        "print(not a)     # not 0 → True\n"
      ],
      "metadata": {
        "colab": {
          "base_uri": "https://localhost:8080/"
        },
        "id": "9VjPqhMpB_-P",
        "outputId": "081e73c6-0bf7-4cbf-d47d-ce41599d9de8"
      },
      "execution_count": null,
      "outputs": [
        {
          "output_type": "stream",
          "name": "stdout",
          "text": [
            "5\n",
            "0\n",
            "True\n"
          ]
        }
      ]
    }
  ]
}